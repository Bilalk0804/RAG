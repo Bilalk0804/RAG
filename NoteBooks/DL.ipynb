{
 "cells": [
  {
   "cell_type": "markdown",
   "id": "18a4b122-a789-4132-85e5-ce77d984e38e",
   "metadata": {},
   "source": [
    "Encoder and Decoders can take any type of input (image,text,sound and can give an output out of it) \n",
    "\n",
    "Mode;l fit can be checked by  ratio test, wald test(a statistical hypothesis test used to assess the significance of estimated parameters, particularly those derived from maximum likelihood estimation, by comparing the estimated value to a hypothesized value under the null hypothesis)   "
   ]
  },
  {
   "cell_type": "code",
   "execution_count": 2,
   "id": "9af9229e-2945-4512-bae8-472f1846c286",
   "metadata": {},
   "outputs": [
    {
     "name": "stdout",
     "output_type": "stream",
     "text": [
      "hello\n"
     ]
    }
   ],
   "source": []
  },
  {
   "cell_type": "code",
   "execution_count": null,
   "id": "40d947a3-3190-4359-afe6-5f919a4f0e55",
   "metadata": {},
   "outputs": [],
   "source": []
  }
 ],
 "metadata": {
  "kernelspec": {
   "display_name": "Python (venv)",
   "language": "python",
   "name": "venv"
  },
  "language_info": {
   "codemirror_mode": {
    "name": "ipython",
    "version": 3
   },
   "file_extension": ".py",
   "mimetype": "text/x-python",
   "name": "python",
   "nbconvert_exporter": "python",
   "pygments_lexer": "ipython3",
   "version": "3.13.7"
  }
 },
 "nbformat": 4,
 "nbformat_minor": 5
}
